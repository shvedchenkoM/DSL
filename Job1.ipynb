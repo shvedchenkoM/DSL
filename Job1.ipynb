{
  "nbformat": 4,
  "nbformat_minor": 0,
  "metadata": {
    "colab": {
      "name": "Job1.ipynb",
      "provenance": [],
      "authorship_tag": "ABX9TyNisL8dzuoYgNMgIe2e9bkw",
      "include_colab_link": true
    },
    "kernelspec": {
      "name": "python3",
      "display_name": "Python 3"
    },
    "language_info": {
      "name": "python"
    }
  },
  "cells": [
    {
      "cell_type": "markdown",
      "metadata": {
        "id": "view-in-github",
        "colab_type": "text"
      },
      "source": [
        "<a href=\"https://colab.research.google.com/github/shvedchenkoM/DSL/blob/main/Job1.ipynb\" target=\"_parent\"><img src=\"https://colab.research.google.com/assets/colab-badge.svg\" alt=\"Open In Colab\"/></a>"
      ]
    },
    {
      "cell_type": "markdown",
      "metadata": {
        "id": "2OegjHcuw7o-"
      },
      "source": [
        "The function `isWhitespace` is used in order to be able to quickly answer the question whether a character is a whitespace or not. This function is ensured the insensitivity of the code to changes the whitespaces set. "
      ]
    },
    {
      "cell_type": "code",
      "metadata": {
        "colab": {
          "base_uri": "https://localhost:8080/"
        },
        "id": "2EHQ0sSaxYkw",
        "outputId": "762efb8a-8065-41d0-deb5-41677dcbd71f"
      },
      "source": [
        "def isWhitespace(symbol, whitespaces):\n",
        "  for i in whitespaces:\n",
        "      if i == symbol:\n",
        "        return True\n",
        "  return False\n",
        "\n",
        "whitespaces = [' ', '\\n', '\\t']\n",
        "isWhitespace('65', whitespaces)"
      ],
      "execution_count": 9,
      "outputs": [
        {
          "output_type": "execute_result",
          "data": {
            "text/plain": [
              "False"
            ]
          },
          "metadata": {},
          "execution_count": 9
        }
      ]
    },
    {
      "cell_type": "markdown",
      "metadata": {
        "id": "MV_8q_5HxaYJ"
      },
      "source": [
        "The main function `strToList` transforms string `text` to the list of strings.\n",
        "\n",
        "The first part is related to transform `text` which can be both file or string to string `buf` and later we will be working with `buf`.\n",
        "\n",
        "---\n",
        "\n",
        "\n",
        "\n",
        "Then quite simple logic is provided. \n",
        "> `result` is our list of strings, which we would like to have like an output\n",
        "\n",
        "> `word` is a string, that will store a current set of non-whitespace character\n",
        "\n",
        "Whether the current character is whitespace, we check our `word` whether it is empty or not, and if it is non-empty, we add it to `result`\n",
        "Whether the current character is not whitespace, we put this character to the end of `word`.\n",
        "\n",
        "And after looking through all-out `text` which is literally `buf`, we are making one last try to add non-empty `word` to `result`."
      ]
    },
    {
      "cell_type": "code",
      "metadata": {
        "colab": {
          "base_uri": "https://localhost:8080/"
        },
        "id": "2jNyWUDmzhTI",
        "outputId": "69f67318-0311-47f6-e56b-e1d7b19e0ddf"
      },
      "source": [
        "def strToList(text):\n",
        "  try:\n",
        "    f = open(text)\n",
        "    buf = f.read()\n",
        "    f.close()\n",
        "  except:\n",
        "    buf = text\n",
        "\n",
        "  result = []\n",
        "  word = \"\"\n",
        "\n",
        "  for i in buf:\n",
        "    if isWhitespace(i, whitespaces):\n",
        "      if len(word) > 0:\n",
        "        result.append(word)\n",
        "      word = \"\"\n",
        "    else:\n",
        "      word = word + i  \n",
        "  if len(word) > 0:\n",
        "    result.append(word)\n",
        "  return result\n",
        "\n",
        "strToList(\"while(1 < 0): \\t haha \\n ggwp\") \n",
        "   \n"
      ],
      "execution_count": 24,
      "outputs": [
        {
          "output_type": "execute_result",
          "data": {
            "text/plain": [
              "['while(1', '<', '0):', 'haha', 'ggwp']"
            ]
          },
          "metadata": {},
          "execution_count": 24
        }
      ]
    },
    {
      "cell_type": "code",
      "metadata": {
        "id": "388P_13p7oQK"
      },
      "source": [
        ""
      ],
      "execution_count": null,
      "outputs": []
    }
  ]
}