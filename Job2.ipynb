{
  "nbformat": 4,
  "nbformat_minor": 0,
  "metadata": {
    "colab": {
      "name": "Job2.ipynb",
      "provenance": [],
      "collapsed_sections": [],
      "authorship_tag": "ABX9TyORJWcyZVHCVrj+ZlC9VKhR",
      "include_colab_link": true
    },
    "kernelspec": {
      "name": "python3",
      "display_name": "Python 3"
    },
    "language_info": {
      "name": "python"
    }
  },
  "cells": [
    {
      "cell_type": "markdown",
      "metadata": {
        "id": "view-in-github",
        "colab_type": "text"
      },
      "source": [
        "<a href=\"https://colab.research.google.com/github/shvedchenkoM/DSL/blob/shvedchenkoM-job2/Job2.ipynb\" target=\"_parent\"><img src=\"https://colab.research.google.com/assets/colab-badge.svg\" alt=\"Open In Colab\"/></a>"
      ]
    },
    {
      "cell_type": "markdown",
      "metadata": {
        "id": "BtgEAxl2Vos9"
      },
      "source": [
        "Умова\n",
        "\n",
        "Припустимо, що контекстно-вільна граматика представляється словником\n",
        "```\n",
        "{'toks': set(token), 'vars': dict(var: definition), 'hvar': var}\n",
        "token : (class, value)\n",
        "class : int\n",
        "value : str\n",
        "var : str                 # ім'я нетермінала\n",
        "definition : list(rule)\n",
        "rule : list(var | token)  # права частина правила\n",
        "```\n",
        "Необхідно написати функції для:\n",
        "\n",
        "* прибирання сторонніх *нетерміналів*\n",
        "* визначення зникаючих символів\n"
      ]
    },
    {
      "cell_type": "markdown",
      "metadata": {
        "id": "3o_uzdOQbozW"
      },
      "source": [
        "**1. Прибирання сторонніх нетерміналів**\n",
        "\n",
        "Сторонні нетермінали це або непродуктивні символи або недосяжні\n",
        "\n",
        "Нам потрібно залишити тільки продуктивні символи\n",
        "\n",
        "Визначення продуктивних символів: ∃ α,β ∊(∑ ⋃ N)*, ∃ u ∊ ∑* : αAβ ↠ u\n",
        "∑ - термінальні символи\n",
        "N - нетермінальні символи\n",
        "\n",
        "Визначення недосяжних символів: \n",
        "Символ х ∊ (∑ ⋃ N) називається недосяжним у Контекстно Вільній Граматицi, якщо х не з'являється в жодному виведеному ланцюжку.\n",
        "\n",
        "\n",
        "\n"
      ]
    },
    {
      "cell_type": "code",
      "metadata": {
        "id": "gOJaulndzNCy"
      },
      "source": [
        "def removeOutsiderNonTerminals(grammar):\n",
        "  insiderNonTerminals = set()\n",
        "  flag = True\n",
        "\n",
        "  while flag:\n",
        "    flag = False\n",
        "    for key, value in grammar['vars'].items():\n",
        "      if key not in insiderNonTerminals:\n",
        "        for rule in value:\n",
        "          if all(map(lambda s: s in grammar['vars'] or s in insiderNonTerminals, rule)):\n",
        "            flag = True\n",
        "            insiderNonTerminals.add(key)\n",
        "            break\n",
        "\n",
        "  nv = dict()\n",
        "  for key, value in grammar['vars'].items():\n",
        "    if key in insiderNonTerminals:\n",
        "      nv[key] = value  \n",
        "  \n",
        "  for key, value in nv.items():\n",
        "    lst = list()\n",
        "    for rule in value:\n",
        "      if all(map(lambda s: s in grammar['vars'] or s in insiderNonTerminals, rule)):\n",
        "        lst.append(rule)\n",
        "    nv[key] = lst\n",
        "\n",
        "  return {'toks': grammar['toks'], 'vars': nv, 'hvar': grammar['hvar']}\n",
        "\n",
        "\n",
        "\n",
        "  "
      ],
      "execution_count": 21,
      "outputs": []
    },
    {
      "cell_type": "code",
      "metadata": {
        "id": "mspg03Was4d8",
        "colab": {
          "base_uri": "https://localhost:8080/"
        },
        "outputId": "7bcc0efa-221c-4687-9391-e342e3ad5ddf"
      },
      "source": [
        "grammar = {\n",
        "    'toks': set([\n",
        "        (0, 'a'),\n",
        "        (1, 'b'),\n",
        "        (2, 'c'),\n",
        "        (3, 'd')       \n",
        "    ]),\n",
        "    'vars': {\n",
        "        'A': [     \n",
        "              [(1, 'b'), 'B'],\n",
        "              [(1, 'b'), 'A'],\n",
        "              ['B']\n",
        "        ],\n",
        "        'B': [\n",
        "              [(2, 'c')],\n",
        "              [(3, 'd')]\n",
        "        ],\n",
        "        'C': [\n",
        "              ['C', 'D']\n",
        "        ],\n",
        "        'D': [\n",
        "              [(0, 'a')]\n",
        "        ]\n",
        "    },\n",
        "    'hvar': 'A'\n",
        "}\n",
        "removeOutsiderNonTerminals(grammar)\n"
      ],
      "execution_count": null,
      "outputs": [
        {
          "output_type": "execute_result",
          "data": {
            "text/plain": [
              "{'hvar': 'A',\n",
              " 'toks': {(0, 'a'), (1, 'b'), (2, 'c'), (3, 'd')},\n",
              " 'vars': {'A': [['B']], 'C': [['C', 'D']]}}"
            ]
          },
          "metadata": {},
          "execution_count": 20
        }
      ]
    },
    {
      "cell_type": "markdown",
      "metadata": {
        "id": "eb7pB6ZrY91r"
      },
      "source": [
        ""
      ]
    }
  ]
}